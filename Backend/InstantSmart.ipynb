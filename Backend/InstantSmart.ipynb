{
 "cells": [
  {
   "cell_type": "code",
   "execution_count": null,
   "metadata": {
    "id": "oIIpYDTxr1D0"
   },
   "outputs": [],
   "source": [
    "%%capture --no-stderr\n",
    "%pip install --quiet -U langchain_openai langchain_core langgraph"
   ]
  },
  {
   "cell_type": "code",
   "execution_count": 1,
   "metadata": {
    "id": "SbbzzA47r9Yx"
   },
   "outputs": [],
   "source": [
    "import os, getpass\n",
    "\n",
    "def _set_env(var: str):\n",
    "    if not os.environ.get(var):\n",
    "        os.environ[var] = getpass.getpass(f\"{var}: \")\n",
    "\n",
    "_set_env(\"OPENAI_API_KEY\")"
   ]
  },
  {
   "cell_type": "code",
   "execution_count": null,
   "metadata": {
    "colab": {
     "base_uri": "https://localhost:8080/"
    },
    "id": "IZfUpzSSsFPI",
    "outputId": "996a063c-626d-49e0-84f5-5b5e8293aeb5"
   },
   "outputs": [
    {
     "name": "stdout",
     "output_type": "stream",
     "text": [
      "LANGCHAIN_API_KEY: ··········\n"
     ]
    }
   ],
   "source": [
    "_set_env(\"LANGCHAIN_API_KEY\")\n",
    "os.environ[\"LANGCHAIN_TRACING_V2\"] = \"true\"\n",
    "os.environ[\"LANGCHAIN_PROJECT\"] = \"agentic_rag_justmov\""
   ]
  },
  {
   "cell_type": "code",
   "execution_count": 2,
   "metadata": {
    "id": "Z0gO47a2sTh6"
   },
   "outputs": [],
   "source": [
    "from langchain_openai import ChatOpenAI,OpenAIEmbeddings\n",
    "llm = ChatOpenAI(model=\"gpt-4o-mini\")"
   ]
  },
  {
   "cell_type": "code",
   "execution_count": 4,
   "metadata": {},
   "outputs": [
    {
     "name": "stdout",
     "output_type": "stream",
     "text": [
      "Collecting pypdfNote: you may need to restart the kernel to use updated packages.\n",
      "\n",
      "  Using cached pypdf-5.1.0-py3-none-any.whl.metadata (7.2 kB)\n",
      "Using cached pypdf-5.1.0-py3-none-any.whl (297 kB)\n",
      "Installing collected packages: pypdf\n",
      "Successfully installed pypdf-5.1.0\n"
     ]
    }
   ],
   "source": [
    "pip install pypdf"
   ]
  },
  {
   "cell_type": "code",
   "execution_count": 7,
   "metadata": {
    "id": "v1y0aNUZIPsc"
   },
   "outputs": [],
   "source": [
    "from langchain_community.document_loaders import PyPDFLoader\n",
    "from langchain_text_splitters import RecursiveCharacterTextSplitter\n",
    "docs = PyPDFLoader(\"Horizon Estates Sales Playbook.pdf\").load()\n",
    "text_splitter = RecursiveCharacterTextSplitter(\n",
    "     chunk_size=1000, chunk_overlap=200, add_start_index=True\n",
    ")\n",
    "all_splits = text_splitter.split_documents(docs)\n",
    "print(all_splits)"
   ]
  },
  {
   "cell_type": "code",
   "execution_count": 14,
   "metadata": {},
   "outputs": [],
   "source": [
    "embeddings = OpenAIEmbeddings(model='text-embedding-3-small')"
   ]
  },
  {
   "cell_type": "code",
   "execution_count": 15,
   "metadata": {},
   "outputs": [
    {
     "data": {
      "text/plain": [
       "['0248adb3-e4c0-4f86-8a0c-42b6b9f7ca71',\n",
       " '0439d113-1460-46f1-9812-02ab3c120c08',\n",
       " 'b8a172f4-3d8a-435e-ad4d-f3a52a1ce54e',\n",
       " 'b17a2cad-e3c1-4c6e-8db8-8f4e4c654504',\n",
       " 'd1157ccc-1429-4485-83ce-7cdc82d4a396']"
      ]
     },
     "execution_count": 15,
     "metadata": {},
     "output_type": "execute_result"
    }
   ],
   "source": [
    "from langchain_chroma import Chroma\n",
    "vector_store = Chroma(\n",
    "    collection_name=\"example_collection\",\n",
    "    embedding_function=embeddings,\n",
    "    persist_directory=\"./chroma_langchain_db\",  \n",
    ")\n",
    "vector_store.add_documents(documents=all_splits)"
   ]
  },
  {
   "cell_type": "code",
   "execution_count": 18,
   "metadata": {},
   "outputs": [],
   "source": [
    "from langchain.tools.retriever import create_retriever_tool\n",
    "retriever = vector_store.as_retriever()\n",
    "retriever_tool = create_retriever_tool(retriever,name=\"retrieve_info\",description=\"Retrieve the most relevant info from Horizon Estate's sales playbook\")\n",
    "tools = [retriever_tool]"
   ]
  },
  {
   "cell_type": "code",
   "execution_count": 23,
   "metadata": {
    "colab": {
     "base_uri": "https://localhost:8080/"
    },
    "id": "igWo9EGdxTDn",
    "outputId": "768e87ce-7d3c-4e2d-80e8-363805e74dac"
   },
   "outputs": [],
   "source": [
    "from langchain.prompts import PromptTemplate\n",
    "from langgraph.graph import MessagesState\n",
    "def frame_ques(state):\n",
    "  \"\"\"\n",
    "    From the conversation of two people in a meeting, searches for the important question that person2 has asked and passes it to the agent node.\n",
    "\n",
    "    Args:\n",
    "        state (messages): The current state\n",
    "\n",
    "    Returns:\n",
    "        The updated state with the agent response appended to messages.\n",
    "  \"\"\"\n",
    "  messages = state['messages']\n",
    "  conv = messages\n",
    "  prompt = PromptTemplate(\n",
    "      template='''\n",
    "      You are a meeting assistant for Sales agent working at Horizon Estate and from the given conversation: {conv}\n",
    "      Your task is to find answers to the question asked to the sales agent by client.\n",
    "      ''', input_variables=[\"conv\"]\n",
    "  )\n",
    "  llm = ChatOpenAI(model=\"gpt-4o-mini\")\n",
    "  llm = llm.bind_tools(tools)\n",
    "  chain = prompt | llm\n",
    "  ques = chain.invoke({\"conv\":conv})\n",
    "  return {\"messages\":[ques]}\n"
   ]
  },
  {
   "cell_type": "code",
   "execution_count": 27,
   "metadata": {},
   "outputs": [],
   "source": [
    "from langchain import hub\n",
    "def generate(state):\n",
    "  messages = state['messages']\n",
    "  question = messages[0].content\n",
    "  last_message = messages[-1]\n",
    "  docs = last_message.content\n",
    "  prompt = hub.pull(\"rlm/rag-prompt\")\n",
    "  rag_chain = prompt | llm \n",
    "  response = rag_chain.invoke({\"context\":docs, \"question\":question})\n",
    "  return {\"messages\":[response]}"
   ]
  },
  {
   "cell_type": "code",
   "execution_count": 33,
   "metadata": {
    "colab": {
     "base_uri": "https://localhost:8080/",
     "height": 251
    },
    "id": "CmxuJjogtB6J",
    "outputId": "34094a2d-ab3f-41fa-cd74-3a5a4fa006f9"
   },
   "outputs": [
    {
     "data": {
      "image/png": "[encoded data removed]",
      "text/plain": [
       "<IPython.core.display.Image object>"
      ]
     },
     "metadata": {},
     "output_type": "display_data"
    }
   ],
   "source": [
    "from langgraph.graph import START, StateGraph,END\n",
    "from langgraph.prebuilt import tools_condition\n",
    "from langgraph.prebuilt import ToolNode,tools_condition\n",
    "from IPython.display import Image, display\n",
    "from langchain_core.messages import HumanMessage\n",
    "builder = StateGraph(MessagesState)\n",
    "\n",
    "# Define nodes: these do the work\n",
    "retrieve = ToolNode(tools)\n",
    "builder.add_node(\"frame_ques\", frame_ques)\n",
    "builder.add_node(\"retrieve\",retrieve)\n",
    "builder.add_node(\"generate\",generate)\n",
    "builder.add_edge(START, \"frame_ques\")\n",
    "builder.add_conditional_edges(\n",
    "    \"frame_ques\",\n",
    "    tools_condition,\n",
    "    {\n",
    "        \"tools\":\"retrieve\",\n",
    "        END:END,\n",
    "    },\n",
    ")\n",
    "builder.add_edge(\"retrieve\",\"generate\")\n",
    "builder.add_edge(\"generate\", END)\n",
    "react_graph = builder.compile()\n",
    "\n",
    "# Show\n",
    "display(Image(react_graph.get_graph(xray=True).draw_mermaid_png()))"
   ]
  },
  {
   "cell_type": "code",
   "execution_count": 34,
   "metadata": {
    "id": "CJJzXHAltdrF"
   },
   "outputs": [],
   "source": [
    "messages = [HumanMessage(content=\"Sales Agent: Good afternoon! Welcome to Horizon Estate. How can I assist you today? Client: Hi, Im looking for a residential property in banglore\")]\n",
    "messages = react_graph.invoke({\"messages\": messages})"
   ]
  },
  {
   "cell_type": "code",
   "execution_count": 35,
   "metadata": {
    "colab": {
     "base_uri": "https://localhost:8080/"
    },
    "id": "ypWJkxFxuuqx",
    "outputId": "ed839edf-9ac0-4f45-83a2-576a49d59740"
   },
   "outputs": [
    {
     "name": "stdout",
     "output_type": "stream",
     "text": [
      "================================\u001b[1m Human Message \u001b[0m=================================\n",
      "\n",
      "Sales Agent: Good afternoon! Welcome to Horizon Estate. How can I assist you today? Client: Hi, Im looking for a residential property in banglore\n",
      "==================================\u001b[1m Ai Message \u001b[0m==================================\n",
      "Tool Calls:\n",
      "  retrieve_info (call_GHjO5nAr7N6ijBSuXWVDX5Zh)\n",
      " Call ID: call_GHjO5nAr7N6ijBSuXWVDX5Zh\n",
      "  Args:\n",
      "    query: residential property in Bangalore\n",
      "=================================\u001b[1m Tool Message \u001b[0m=================================\n",
      "Name: retrieve_info\n",
      "\n",
      "Residential Properties\n",
      "1. LuxuryApartments-Mumbai○ Location: Bandra, Mumbai○ Description: 3-5BHKluxuryapartmentswithseaviews.○ Amenities: Swimmingpool, gym, clubhouse, and24/7security.○ PriceRange: ₹2.5-₹8crore.2. AffordableHousing-Pune○ Location: Hinjewadi, Pune○ Description: 1-2BHKapartmentsideal forfirst-timebuyers.○ Amenities: Communitycenter, children’splayarea, andgreenspaces.○ PriceRange: ₹40-₹80lakh.3. Ultra-ModernVillas-Hyderabad○ Location: Gachibowli, Hyderabad○ Description: Luxurious4-6BHKvillaswithprivatepoolsandgardens.○ Amenities: Exclusiveclubhouse, spa, andlandscapedparks.○ PriceRange: ₹3-₹12crore.4. Mid-SegmentApartments-Chennai○ Location: OMRRoad, Chennai○ Description: 2-3BHKapartmentscateringtomid-incomegroups.○ Amenities: Fitnesscenter, kids’ playarea, andbackuppower.○ PriceRange: ₹60lakh-₹1.5crore.\n",
      "Commercial Properties\n",
      "1. GradeAOfficeSpaces-Bangalore\n",
      "\n",
      "○ Location: Whitefield, Bangalore○ Description: Fullyservicedofficespaceswithmoderninfrastructure.○ Amenities: Parking, cafeteria, conferencerooms.○ PriceRange: ₹50–₹75persq. ft.2. Retail Spaces-Delhi NCR○ Location: Gurugram, Haryana○ Description: Primeretail spacesinhigh-footfall locations.○ Amenities: Parking, powerbackup, highvisibility.○ PriceRange: ₹1.5-₹5crore.3. ITParkSpaces-Hyderabad○ Location: HITECCity, Hyderabad○ Description: FullyequippedITparkspaceswithhigh-speedconnectivity.○ Amenities: Foodcourts, parking, andflexiblelayouts.○ PriceRange: ₹80–₹110persq. ft.4. CoworkingHubs-Mumbai○ Location: Andheri East, Mumbai○ Description: Vibrant coworkingspacessuitableforstartupsandfreelancers.○ Amenities: High-speedinternet, meetingrooms, andcafes.○ PriceRange: ₹10,000–₹20,000perdeskpermonth.\n",
      "LandParcels\n",
      "\n",
      "LandParcels\n",
      "1. Residential Land-Goa○ Location: NearCalanguteBeach○ Description: Sceniclandparcelsideal forvillasorresorts.○ PriceRange: ₹30,000–₹50,000persq. ft.2. Industrial Land-Gujarat○ Location: NearAhmedabad○ Description: Suitableformanufacturingorlogistics.○ PriceRange: ₹1,000-₹2,000persq. ft.3. Agricultural Land-Punjab○ Location: Ludhiana, Punjab○ Description: Fertilelandparcelsideal foragricultureoragritourism.○ PriceRange: ₹500-₹1,200persq. ft.4. Commercial Land-Jaipur○ Location: NearPinkCity, Jaipur○ Description: Primeplotsideal forshoppingmallsorofficespaces.○ PriceRange: ₹2,000-₹5,000persq. ft.\n",
      "AboutHorizonEstates\n",
      "HorizonEstatesisapremierreal estatecompanyspecializinginresidential, commercial, andindustrial propertiesacrossIndia. Establishedin2005, weprideourselvesondelivering\n",
      "\n",
      "value-drivenprojectswithafocusoncustomersatisfaction, innovation, andsustainability. Ourvisionistoredefinereal estatebybuildingtrust andcreatingvibrant communities.\n",
      "Withaportfolioof over100propertiesnationwide, HorizonEstateshasbecomeatrustednameintheindustry, offeringdiverseinvestment opportunitiesforbuyersandinvestorsalike.\n",
      "KeyAchievements\n",
      "● ExpansivePortfolio: Successfullydevelopedandmanagedover100residential andcommercial propertiesacrossIndia.● CustomerSatisfaction: Achieveda95%customersatisfactionratethroughunparalleledserviceandqualityprojects.● Sustainability: Integratedgreenbuildingpracticesin70%of projects, earningrecognitionforeco-friendlyinitiatives.● AwardsandAccolades: Winnerof the\"Best Real EstateDeveloper\"awardat theIndianRealtySummit forthreeconsecutiveyears.● Global Presence: Partneredwithinternational firmstoattract global investmentsandexpandourmarket reach.\n",
      "==================================\u001b[1m Ai Message \u001b[0m==================================\n",
      "\n",
      "I don't have information on residential properties specifically in Bangalore. However, I can assist you with commercial properties available in Bangalore, such as Grade A office spaces in Whitefield. Please let me know how you'd like to proceed!\n"
     ]
    }
   ],
   "source": [
    "for m in messages['messages']:\n",
    "    m.pretty_print()"
   ]
  },
  {
   "cell_type": "code",
   "execution_count": null,
   "metadata": {},
   "outputs": [],
   "source": []
  }
 ],
 "metadata": {
  "colab": {
   "provenance": []
  },
  "kernelspec": {
   "display_name": "Python 3 (ipykernel)",
   "language": "python",
   "name": "python3"
  },
  "language_info": {
   "codemirror_mode": {
    "name": "ipython",
    "version": 3
   },
   "file_extension": ".py",
   "mimetype": "text/x-python",
   "name": "python",
   "nbconvert_exporter": "python",
   "pygments_lexer": "ipython3",
   "version": "3.12.6"
  }
 },
 "nbformat": 4,
 "nbformat_minor": 4
}
