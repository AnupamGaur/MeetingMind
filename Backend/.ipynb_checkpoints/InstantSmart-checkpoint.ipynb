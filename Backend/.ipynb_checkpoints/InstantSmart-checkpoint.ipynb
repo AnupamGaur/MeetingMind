{
  "nbformat": 4,
  "nbformat_minor": 0,
  "metadata": {
    "colab": {
      "provenance": []
    },
    "kernelspec": {
      "name": "python3",
      "display_name": "Python 3"
    },
    "language_info": {
      "name": "python"
    }
  },
  "cells": [
    {
      "cell_type": "code",
      "execution_count": null,
      "metadata": {
        "id": "oIIpYDTxr1D0"
      },
      "outputs": [],
      "source": [
        "%%capture --no-stderr\n",
        "%pip install --quiet -U langchain_openai langchain_core langgraph"
      ]
    },
    {
      "cell_type": "code",
      "source": [
        "import os, getpass\n",
        "\n",
        "def _set_env(var: str):\n",
        "    if not os.environ.get(var):\n",
        "        os.environ[var] = getpass.getpass(f\"{var}: \")\n",
        "\n",
        "_set_env(\"OPENAI_API_KEY\")"
      ],
      "metadata": {
        "id": "SbbzzA47r9Yx"
      },
      "execution_count": null,
      "outputs": []
    },
    {
      "cell_type": "code",
      "source": [
        "_set_env(\"LANGCHAIN_API_KEY\")\n",
        "os.environ[\"LANGCHAIN_TRACING_V2\"] = \"true\"\n",
        "os.environ[\"LANGCHAIN_PROJECT\"] = \"agentic_rag_justmov\""
      ],
      "metadata": {
        "colab": {
          "base_uri": "https://localhost:8080/"
        },
        "id": "IZfUpzSSsFPI",
        "outputId": "996a063c-626d-49e0-84f5-5b5e8293aeb5"
      },
      "execution_count": null,
      "outputs": [
        {
          "name": "stdout",
          "output_type": "stream",
          "text": [
            "LANGCHAIN_API_KEY: ··········\n"
          ]
        }
      ]
    },
    {
      "cell_type": "code",
      "source": [
        "from langchain_openai import ChatOpenAI\n",
        "llm = ChatOpenAI(model=\"gpt-4o\")"
      ],
      "metadata": {
        "id": "Z0gO47a2sTh6"
      },
      "execution_count": null,
      "outputs": []
    },
    {
      "cell_type": "code",
      "source": [],
      "metadata": {
        "id": "v1y0aNUZIPsc"
      },
      "execution_count": null,
      "outputs": []
    },
    {
      "cell_type": "code",
      "source": [
        "from langgraph.graph import MessagesState\n",
        "def assistant(state: MessagesState):\n",
        "   return {\"messages\": [llm.invoke(state[\"messages\"])]}"
      ],
      "metadata": {
        "id": "Pt2ZQfuusa18"
      },
      "execution_count": null,
      "outputs": []
    },
    {
      "cell_type": "code",
      "source": [
        "from langchain.prompts import PromptTemplate\n",
        "def frame_ques(state):\n",
        "  \"\"\"\n",
        "    From the conversation of two people in a meeting, searches for the important question that person2 has asked and passes it to the agent node.\n",
        "\n",
        "    Args:\n",
        "        state (messages): The current state\n",
        "\n",
        "    Returns:\n",
        "        The updated state with the agent response appended to messages.\n",
        "  \"\"\"\n",
        "  messages = state['messages']\n",
        "  conv = messages\n",
        "  prompt = PromptTemplate(\n",
        "      template='''\n",
        "      You are a meeting assistant for person 1 and from the given conversation: {conv}\n",
        "      Your task is to find all important question asked to person 1 by person 2.\n",
        "      Your output should be: 'All Summarized Question:' followed by the the summarized questions from the conversation.\n",
        "      ''', input_variables=[\"conv\"]\n",
        "  )\n",
        "  chain = prompt | llm\n",
        "  ques = chain.invoke({\"conv\":conv})\n",
        "  return {\"messages\":[ques.content]}\n",
        "\n",
        "frame_ques({\"messages\":\"person1: Good afternoon! Welcome to Tech Haven. How can I assist you today? Customer: Hi, Im looking for a laptop. Something lightweight but powerful enough for work and occasional video editing.Salesman: Sure! We have several options that fit your needs. May I ask about your budget and any specific features you're looking for?person2: My budget is around $1,000, and I'd like at least 16GB of RAM, a good processor, and a decent battery life.\"})"
      ],
      "metadata": {
        "colab": {
          "base_uri": "https://localhost:8080/"
        },
        "id": "igWo9EGdxTDn",
        "outputId": "768e87ce-7d3c-4e2d-80e8-363805e74dac"
      },
      "execution_count": null,
      "outputs": [
        {
          "output_type": "execute_result",
          "data": {
            "text/plain": [
              "{'messages': [\"All Summarized Question: 'What are the laptop options available within a $1,000 budget that are lightweight, powerful enough for work and occasional video editing, and come with at least 16GB of RAM, a good processor, and decent battery life?'\"]}"
            ]
          },
          "metadata": {},
          "execution_count": 30
        }
      ]
    },
    {
      "cell_type": "code",
      "source": [
        "from langgraph.graph import START, StateGraph,END\n",
        "from langgraph.prebuilt import tools_condition\n",
        "from langgraph.prebuilt import ToolNode\n",
        "from IPython.display import Image, display\n",
        "from langchain_core.messages import HumanMessage\n",
        "builder = StateGraph(MessagesState)\n",
        "\n",
        "# Define nodes: these do the work\n",
        "builder.add_node(\"assistant\", assistant)\n",
        "\n",
        "builder.add_edge(START, \"assistant\")\n",
        "builder.add_edge(\"assistant\", END)\n",
        "react_graph = builder.compile()\n",
        "\n",
        "# Show\n",
        "display(Image(react_graph.get_graph(xray=True).draw_mermaid_png()))"
      ],
      "metadata": {
        "colab": {
          "base_uri": "https://localhost:8080/",
          "height": 251
        },
        "id": "CmxuJjogtB6J",
        "outputId": "34094a2d-ab3f-41fa-cd74-3a5a4fa006f9"
      },
      "execution_count": null,
      "outputs": [
        {
          "output_type": "display_data",
          "data": {
            "image/png": "[encoded data removed]",
            "text/plain": [
              "<IPython.core.display.Image object>"
            ]
          },
          "metadata": {}
        }
      ]
    },
    {
      "cell_type": "code",
      "source": [
        "messages = [HumanMessage(content=\"WHo is Virat Kohli?\")]\n",
        "messages = react_graph.invoke({\"messages\": messages})"
      ],
      "metadata": {
        "id": "CJJzXHAltdrF"
      },
      "execution_count": null,
      "outputs": []
    },
    {
      "cell_type": "code",
      "source": [
        "for m in messages['messages']:\n",
        "    m.pretty_print()"
      ],
      "metadata": {
        "colab": {
          "base_uri": "https://localhost:8080/"
        },
        "id": "ypWJkxFxuuqx",
        "outputId": "ed839edf-9ac0-4f45-83a2-576a49d59740"
      },
      "execution_count": null,
      "outputs": [
        {
          "output_type": "stream",
          "name": "stdout",
          "text": [
            "================================\u001b[1m Human Message \u001b[0m=================================\n",
            "\n",
            "WHo is Virat Kohli?\n",
            "==================================\u001b[1m Ai Message \u001b[0m==================================\n",
            "\n",
            "Virat Kohli is an Indian cricketer, widely regarded as one of the best batsmen in the world. Born on November 5, 1988, in Delhi, India, he has served as the captain of the Indian national team in all formats. Kohli is known for his aggressive playing style, consistent performances, and strong leadership qualities. He has achieved numerous records in international cricket, including being one of the fastest players to score 8,000, 9,000, 10,000, and more runs in One Day Internationals (ODIs). He has also played for the Royal Challengers Bangalore in the Indian Premier League (IPL) since its inception. Off the field, Kohli is involved in various business ventures and philanthropic activities.\n"
          ]
        }
      ]
    }
  ]
}